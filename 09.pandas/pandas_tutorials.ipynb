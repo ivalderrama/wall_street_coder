{
 "cells": [
  {
   "cell_type": "code",
   "execution_count": 1,
   "metadata": {},
   "outputs": [],
   "source": [
    "import pandas as pd"
   ]
  },
  {
   "cell_type": "code",
   "execution_count": 2,
   "metadata": {},
   "outputs": [],
   "source": [
    "# Data types\n",
    "\n",
    "strings = pd.Series(['a', 'b', 'c'])\n",
    "\n",
    "categories = pd.Series(['a', 'b', 'c'], dtype='category')\n",
    "\n",
    "ints = pd.Series([1, 2, 3])\n",
    "\n",
    "floats = pd.Series([1.2, 3.4, 5.6])\n",
    "\n",
    "bools = pd.Series([True, False, True])\n",
    "\n",
    "dates = pd.Series([pd.to_datetime('31/12/2018')])\n",
    "\n",
    "df = pd.DataFrame({'s': strings, 'f': floats})"
   ]
  },
  {
   "cell_type": "code",
   "execution_count": 3,
   "metadata": {},
   "outputs": [
    {
     "name": "stdout",
     "output_type": "stream",
     "text": [
      "<class 'pandas.core.series.Series'>\n",
      "0    a\n",
      "1    b\n",
      "2    c\n",
      "dtype: object\n",
      "object\n"
     ]
    }
   ],
   "source": [
    "print(type(strings))\n",
    "print(strings)\n",
    "print(strings.dtype)"
   ]
  },
  {
   "cell_type": "code",
   "execution_count": 4,
   "metadata": {},
   "outputs": [
    {
     "name": "stdout",
     "output_type": "stream",
     "text": [
      "category\n",
      "int64\n",
      "float64\n",
      "bool\n",
      "datetime64[ns]\n"
     ]
    }
   ],
   "source": [
    "print(categories.dtype)\n",
    "print(ints.dtype)\n",
    "print(floats.dtype)\n",
    "print(bools.dtype)\n",
    "print(dates.dtype)"
   ]
  },
  {
   "cell_type": "code",
   "execution_count": 5,
   "metadata": {},
   "outputs": [
    {
     "data": {
      "text/plain": [
       "0   2018-12-31\n",
       "dtype: datetime64[ns]"
      ]
     },
     "execution_count": 5,
     "metadata": {},
     "output_type": "execute_result"
    }
   ],
   "source": [
    "dates"
   ]
  },
  {
   "cell_type": "code",
   "execution_count": 6,
   "metadata": {},
   "outputs": [
    {
     "data": {
      "text/plain": [
       "Timestamp('2018-12-31 00:00:00')"
      ]
     },
     "execution_count": 6,
     "metadata": {},
     "output_type": "execute_result"
    }
   ],
   "source": [
    "dates[0]"
   ]
  },
  {
   "cell_type": "code",
   "execution_count": 7,
   "metadata": {},
   "outputs": [
    {
     "name": "stdout",
     "output_type": "stream",
     "text": [
      "<class 'pandas.core.frame.DataFrame'>\n",
      "s     object\n",
      "f    float64\n",
      "dtype: object\n"
     ]
    }
   ],
   "source": [
    "print(type(df))\n",
    "print(df.dtypes) # Note: dtypes for dataframes because more than one data type"
   ]
  },
  {
   "cell_type": "code",
   "execution_count": 8,
   "metadata": {},
   "outputs": [
    {
     "data": {
      "text/plain": [
       "0    5\n",
       "1    5\n",
       "2    5\n",
       "dtype: int64"
      ]
     },
     "execution_count": 8,
     "metadata": {},
     "output_type": "execute_result"
    }
   ],
   "source": [
    "# Create Series\n",
    "\n",
    "single_series = pd.Series(5, index=[0, 1, 2])\n",
    "single_series"
   ]
  },
  {
   "cell_type": "code",
   "execution_count": 9,
   "metadata": {},
   "outputs": [
    {
     "data": {
      "text/plain": [
       "a    1\n",
       "b    2\n",
       "c    3\n",
       "dtype: int64"
      ]
     },
     "execution_count": 9,
     "metadata": {},
     "output_type": "execute_result"
    }
   ],
   "source": [
    "list_series = pd.Series([1, 2, 3], index=['a', 'b', 'c'])\n",
    "list_series"
   ]
  },
  {
   "cell_type": "code",
   "execution_count": 10,
   "metadata": {},
   "outputs": [
    {
     "name": "stdout",
     "output_type": "stream",
     "text": [
      "abcdefghijklmnopqrstuvwxyz\n",
      "26\n"
     ]
    },
    {
     "data": {
      "text/plain": [
       "['a',\n",
       " 'b',\n",
       " 'c',\n",
       " 'd',\n",
       " 'e',\n",
       " 'f',\n",
       " 'g',\n",
       " 'h',\n",
       " 'i',\n",
       " 'j',\n",
       " 'k',\n",
       " 'l',\n",
       " 'm',\n",
       " 'n',\n",
       " 'o',\n",
       " 'p',\n",
       " 'q',\n",
       " 'r',\n",
       " 's',\n",
       " 't',\n",
       " 'u',\n",
       " 'v',\n",
       " 'w',\n",
       " 'x',\n",
       " 'y',\n",
       " 'z']"
      ]
     },
     "execution_count": 10,
     "metadata": {},
     "output_type": "execute_result"
    }
   ],
   "source": [
    "import string\n",
    "\n",
    "print(string.ascii_lowercase)\n",
    "print(len(string.ascii_lowercase))\n",
    "[i for i in string.ascii_lowercase]"
   ]
  },
  {
   "cell_type": "code",
   "execution_count": 11,
   "metadata": {},
   "outputs": [
    {
     "data": {
      "text/plain": [
       "a     1\n",
       "b     2\n",
       "c     3\n",
       "d     4\n",
       "e     5\n",
       "f     6\n",
       "g     7\n",
       "h     8\n",
       "i     9\n",
       "j    10\n",
       "k    11\n",
       "l    12\n",
       "m    13\n",
       "n    14\n",
       "o    15\n",
       "p    16\n",
       "q    17\n",
       "r    18\n",
       "s    19\n",
       "t    20\n",
       "u    21\n",
       "v    22\n",
       "w    23\n",
       "x    24\n",
       "y    25\n",
       "z    26\n",
       "dtype: int64"
      ]
     },
     "execution_count": 11,
     "metadata": {},
     "output_type": "execute_result"
    }
   ],
   "source": [
    "list_series = pd.Series([i for i in range(1, 27)], index=[i for i in string.ascii_lowercase])\n",
    "list_series"
   ]
  },
  {
   "cell_type": "code",
   "execution_count": 12,
   "metadata": {},
   "outputs": [
    {
     "data": {
      "text/plain": [
       "a    1\n",
       "b    2\n",
       "c    3\n",
       "dtype: int64"
      ]
     },
     "execution_count": 12,
     "metadata": {},
     "output_type": "execute_result"
    }
   ],
   "source": [
    "dict_series = pd.Series({'a': 1, 'b': 2, 'c': 3})\n",
    "dict_series"
   ]
  },
  {
   "cell_type": "code",
   "execution_count": 13,
   "metadata": {},
   "outputs": [
    {
     "name": "stdout",
     "output_type": "stream",
     "text": [
      "a     1\n",
      "b     2\n",
      "c     3\n",
      "d     4\n",
      "e     5\n",
      "f     6\n",
      "g     7\n",
      "h     8\n",
      "i     9\n",
      "j    10\n",
      "k    11\n",
      "l    12\n",
      "m    13\n",
      "n    14\n",
      "o    15\n",
      "p    16\n",
      "q    17\n",
      "r    18\n",
      "s    19\n",
      "t    20\n",
      "u    21\n",
      "v    22\n",
      "w    23\n",
      "x    24\n",
      "y    25\n",
      "z    26\n",
      "dtype: int64\n"
     ]
    }
   ],
   "source": [
    "# Using zip \n",
    "\n",
    "dict_series_2 = pd.Series(dict(zip([i for i in string.ascii_lowercase], [i for i in range(1, 27)])))\n",
    "\n",
    "print(dict_series_2)"
   ]
  },
  {
   "cell_type": "code",
   "execution_count": 14,
   "metadata": {},
   "outputs": [
    {
     "data": {
      "text/plain": [
       "AAPL     200\n",
       "MSFT     120\n",
       "AMZN    1800\n",
       "dtype: int64"
      ]
     },
     "execution_count": 14,
     "metadata": {},
     "output_type": "execute_result"
    }
   ],
   "source": [
    "stock_data = pd.Series({'AAPL': 200, 'MSFT': 120, 'AMZN': 1800})\n",
    "stock_data"
   ]
  },
  {
   "cell_type": "code",
   "execution_count": 15,
   "metadata": {},
   "outputs": [
    {
     "data": {
      "text/plain": [
       "0    1\n",
       "1    2\n",
       "2    3\n",
       "dtype: int64"
      ]
     },
     "execution_count": 15,
     "metadata": {},
     "output_type": "execute_result"
    }
   ],
   "source": [
    "import numpy as np\n",
    "\n",
    "numpy_series = pd.Series(np.array([1, 2, 3]))\n",
    "numpy_series"
   ]
  },
  {
   "cell_type": "code",
   "execution_count": 16,
   "metadata": {},
   "outputs": [
    {
     "data": {
      "text/plain": [
       "200"
      ]
     },
     "execution_count": 16,
     "metadata": {},
     "output_type": "execute_result"
    }
   ],
   "source": [
    "# Series functions\n",
    "\n",
    "stock_data[0]"
   ]
  },
  {
   "cell_type": "code",
   "execution_count": 17,
   "metadata": {},
   "outputs": [
    {
     "data": {
      "text/plain": [
       "200"
      ]
     },
     "execution_count": 17,
     "metadata": {},
     "output_type": "execute_result"
    }
   ],
   "source": [
    "stock_data['AAPL']"
   ]
  },
  {
   "cell_type": "code",
   "execution_count": 18,
   "metadata": {},
   "outputs": [
    {
     "data": {
      "text/plain": [
       "AAPL    200\n",
       "MSFT    120\n",
       "dtype: int64"
      ]
     },
     "execution_count": 18,
     "metadata": {},
     "output_type": "execute_result"
    }
   ],
   "source": [
    "stock_data[0:2]"
   ]
  },
  {
   "cell_type": "code",
   "execution_count": 19,
   "metadata": {},
   "outputs": [
    {
     "data": {
      "text/plain": [
       "AAPL     200\n",
       "MSFT     120\n",
       "AMZN    1800\n",
       "dtype: int64"
      ]
     },
     "execution_count": 19,
     "metadata": {},
     "output_type": "execute_result"
    }
   ],
   "source": [
    "stock_data['AAPL': 'AMZN']"
   ]
  },
  {
   "cell_type": "code",
   "execution_count": 20,
   "metadata": {},
   "outputs": [
    {
     "name": "stdout",
     "output_type": "stream",
     "text": [
      "120\n",
      "120\n"
     ]
    }
   ],
   "source": [
    "print(stock_data.get('MSFT'))\n",
    "print(stock_data.get(1))"
   ]
  },
  {
   "cell_type": "code",
   "execution_count": 21,
   "metadata": {},
   "outputs": [
    {
     "name": "stdout",
     "output_type": "stream",
     "text": [
      "1800\n",
      "120\n",
      "706.6666666666666\n"
     ]
    }
   ],
   "source": [
    "print(stock_data.max())\n",
    "print(stock_data.min())\n",
    "print(stock_data.mean())"
   ]
  },
  {
   "cell_type": "code",
   "execution_count": 22,
   "metadata": {},
   "outputs": [
    {
     "data": {
      "text/plain": [
       "3"
      ]
     },
     "execution_count": 22,
     "metadata": {},
     "output_type": "execute_result"
    }
   ],
   "source": [
    "stock_data.size"
   ]
  },
  {
   "cell_type": "code",
   "execution_count": 23,
   "metadata": {},
   "outputs": [
    {
     "data": {
      "text/plain": [
       "count       3.000000\n",
       "mean      706.666667\n",
       "std       947.698968\n",
       "min       120.000000\n",
       "25%       160.000000\n",
       "50%       200.000000\n",
       "75%      1000.000000\n",
       "max      1800.000000\n",
       "dtype: float64"
      ]
     },
     "execution_count": 23,
     "metadata": {},
     "output_type": "execute_result"
    }
   ],
   "source": [
    "stock_data.describe()"
   ]
  },
  {
   "cell_type": "code",
   "execution_count": 24,
   "metadata": {},
   "outputs": [
    {
     "data": {
      "text/plain": [
       "AAPL     210\n",
       "MSFT     120\n",
       "AMZN    1800\n",
       "dtype: int64"
      ]
     },
     "execution_count": 24,
     "metadata": {},
     "output_type": "execute_result"
    }
   ],
   "source": [
    "stock_data[0] = 210\n",
    "stock_data"
   ]
  },
  {
   "cell_type": "code",
   "execution_count": 25,
   "metadata": {},
   "outputs": [
    {
     "data": {
      "text/plain": [
       "AAPL     210\n",
       "MSFT     115\n",
       "AMZN    1800\n",
       "dtype: int64"
      ]
     },
     "execution_count": 25,
     "metadata": {},
     "output_type": "execute_result"
    }
   ],
   "source": [
    "stock_data['MSFT'] = 115\n",
    "stock_data"
   ]
  },
  {
   "cell_type": "code",
   "execution_count": 26,
   "metadata": {},
   "outputs": [],
   "source": [
    "second_stock_data = pd.Series({'AMD': 27, 'NVDA': 190})"
   ]
  },
  {
   "cell_type": "code",
   "execution_count": 27,
   "metadata": {},
   "outputs": [],
   "source": [
    "stock_data = stock_data.append(second_stock_data)"
   ]
  },
  {
   "cell_type": "code",
   "execution_count": 28,
   "metadata": {},
   "outputs": [
    {
     "data": {
      "text/plain": [
       "AAPL     210\n",
       "MSFT     115\n",
       "AMZN    1800\n",
       "AMD       27\n",
       "NVDA     190\n",
       "dtype: int64"
      ]
     },
     "execution_count": 28,
     "metadata": {},
     "output_type": "execute_result"
    }
   ],
   "source": [
    "stock_data"
   ]
  },
  {
   "cell_type": "code",
   "execution_count": 29,
   "metadata": {},
   "outputs": [
    {
     "data": {
      "text/plain": [
       "27"
      ]
     },
     "execution_count": 29,
     "metadata": {},
     "output_type": "execute_result"
    }
   ],
   "source": [
    "stock_data.pop('AMD')"
   ]
  },
  {
   "cell_type": "code",
   "execution_count": 30,
   "metadata": {},
   "outputs": [
    {
     "data": {
      "text/plain": [
       "AAPL     210\n",
       "MSFT     115\n",
       "AMZN    1800\n",
       "NVDA     190\n",
       "dtype: int64"
      ]
     },
     "execution_count": 30,
     "metadata": {},
     "output_type": "execute_result"
    }
   ],
   "source": [
    "stock_data"
   ]
  },
  {
   "cell_type": "code",
   "execution_count": 31,
   "metadata": {},
   "outputs": [
    {
     "data": {
      "text/plain": [
       "[210, 115, 1800, 190]"
      ]
     },
     "execution_count": 31,
     "metadata": {},
     "output_type": "execute_result"
    }
   ],
   "source": [
    "stock_data.to_list()"
   ]
  },
  {
   "cell_type": "code",
   "execution_count": 32,
   "metadata": {},
   "outputs": [
    {
     "data": {
      "text/plain": [
       "{'AAPL': 210, 'MSFT': 115, 'AMZN': 1800, 'NVDA': 190}"
      ]
     },
     "execution_count": 32,
     "metadata": {},
     "output_type": "execute_result"
    }
   ],
   "source": [
    "stock_data.to_dict()"
   ]
  },
  {
   "cell_type": "code",
   "execution_count": 33,
   "metadata": {},
   "outputs": [
    {
     "data": {
      "text/plain": [
       "MSFT     115\n",
       "NVDA     190\n",
       "AAPL     210\n",
       "AMZN    1800\n",
       "dtype: int64"
      ]
     },
     "execution_count": 33,
     "metadata": {},
     "output_type": "execute_result"
    }
   ],
   "source": [
    "stock_data.sort_values()"
   ]
  },
  {
   "cell_type": "code",
   "execution_count": 34,
   "metadata": {},
   "outputs": [
    {
     "data": {
      "text/plain": [
       "AAPL     210\n",
       "MSFT     115\n",
       "AMZN    1800\n",
       "NVDA     190\n",
       "dtype: int64"
      ]
     },
     "execution_count": 34,
     "metadata": {},
     "output_type": "execute_result"
    }
   ],
   "source": [
    "stock_data"
   ]
  },
  {
   "cell_type": "code",
   "execution_count": 35,
   "metadata": {},
   "outputs": [
    {
     "data": {
      "text/plain": [
       "AAPL     210\n",
       "AMZN    1800\n",
       "MSFT     115\n",
       "NVDA     190\n",
       "dtype: int64"
      ]
     },
     "execution_count": 35,
     "metadata": {},
     "output_type": "execute_result"
    }
   ],
   "source": [
    "stock_data.sort_index()"
   ]
  },
  {
   "cell_type": "code",
   "execution_count": 36,
   "metadata": {},
   "outputs": [
    {
     "data": {
      "text/plain": [
       "NVDA     190\n",
       "MSFT     115\n",
       "AMZN    1800\n",
       "AAPL     210\n",
       "dtype: int64"
      ]
     },
     "execution_count": 36,
     "metadata": {},
     "output_type": "execute_result"
    }
   ],
   "source": [
    "stock_data.sort_index(ascending=False)"
   ]
  },
  {
   "cell_type": "code",
   "execution_count": 37,
   "metadata": {},
   "outputs": [
    {
     "name": "stdout",
     "output_type": "stream",
     "text": [
      "AAPL     270.90\n",
      "MSFT     148.35\n",
      "AMZN    2322.00\n",
      "NVDA     245.10\n",
      "dtype: float64\n"
     ]
    }
   ],
   "source": [
    "print(stock_data * 1.29)"
   ]
  },
  {
   "cell_type": "code",
   "execution_count": 38,
   "metadata": {},
   "outputs": [
    {
     "data": {
      "text/plain": [
       "AAPL     210\n",
       "MSFT     115\n",
       "AMZN    1800\n",
       "NVDA     190\n",
       "dtype: int64"
      ]
     },
     "execution_count": 38,
     "metadata": {},
     "output_type": "execute_result"
    }
   ],
   "source": [
    "stock_data"
   ]
  },
  {
   "cell_type": "code",
   "execution_count": 39,
   "metadata": {},
   "outputs": [
    {
     "data": {
      "text/plain": [
       "AAPL     210\n",
       "MSFT     230\n",
       "AMZN    5400\n",
       "NVDA     760\n",
       "dtype: int64"
      ]
     },
     "execution_count": 39,
     "metadata": {},
     "output_type": "execute_result"
    }
   ],
   "source": [
    "new_series = pd.Series({'AAPL': 1, 'MSFT': 2, 'AMZN': 3, 'NVDA': 4})\n",
    "stock_data.multiply(new_series)"
   ]
  },
  {
   "cell_type": "code",
   "execution_count": 40,
   "metadata": {},
   "outputs": [
    {
     "data": {
      "text/html": [
       "<div>\n",
       "<style scoped>\n",
       "    .dataframe tbody tr th:only-of-type {\n",
       "        vertical-align: middle;\n",
       "    }\n",
       "\n",
       "    .dataframe tbody tr th {\n",
       "        vertical-align: top;\n",
       "    }\n",
       "\n",
       "    .dataframe thead th {\n",
       "        text-align: right;\n",
       "    }\n",
       "</style>\n",
       "<table border=\"1\" class=\"dataframe\">\n",
       "  <thead>\n",
       "    <tr style=\"text-align: right;\">\n",
       "      <th></th>\n",
       "      <th>High</th>\n",
       "      <th>Low</th>\n",
       "      <th>Close</th>\n",
       "    </tr>\n",
       "  </thead>\n",
       "  <tbody>\n",
       "    <tr>\n",
       "      <th>0</th>\n",
       "      <td>2.0</td>\n",
       "      <td>1.5</td>\n",
       "      <td>2.0</td>\n",
       "    </tr>\n",
       "    <tr>\n",
       "      <th>1</th>\n",
       "      <td>2.2</td>\n",
       "      <td>1.7</td>\n",
       "      <td>2.1</td>\n",
       "    </tr>\n",
       "    <tr>\n",
       "      <th>2</th>\n",
       "      <td>2.4</td>\n",
       "      <td>2.1</td>\n",
       "      <td>2.2</td>\n",
       "    </tr>\n",
       "  </tbody>\n",
       "</table>\n",
       "</div>"
      ],
      "text/plain": [
       "   High  Low  Close\n",
       "0   2.0  1.5    2.0\n",
       "1   2.2  1.7    2.1\n",
       "2   2.4  2.1    2.2"
      ]
     },
     "execution_count": 40,
     "metadata": {},
     "output_type": "execute_result"
    }
   ],
   "source": [
    "# Creating dataframes\n",
    "\n",
    "stock_df = pd.DataFrame({'High':[2, 2.2, 2.4], 'Low':[1.5, 1.7, 2.1], 'Close':[2, 2.1, 2.2]})\n",
    "stock_df"
   ]
  },
  {
   "cell_type": "code",
   "execution_count": 41,
   "metadata": {},
   "outputs": [],
   "source": [
    "open_prices = pd.Series([5, 5.6, 5.2], index=['Jan 1', 'Jan 2', 'Jan 3'])\n",
    "close_prices = pd.Series([5.2, 5.7, 5.4], index=['Jan 2', 'Jan 3', 'Jan 4'])"
   ]
  },
  {
   "cell_type": "code",
   "execution_count": 42,
   "metadata": {},
   "outputs": [
    {
     "data": {
      "text/plain": [
       "Jan 2    5.2\n",
       "Jan 3    5.7\n",
       "Jan 4    5.4\n",
       "dtype: float64"
      ]
     },
     "execution_count": 42,
     "metadata": {},
     "output_type": "execute_result"
    }
   ],
   "source": [
    "close_prices"
   ]
  },
  {
   "cell_type": "code",
   "execution_count": 43,
   "metadata": {},
   "outputs": [
    {
     "data": {
      "text/html": [
       "<div>\n",
       "<style scoped>\n",
       "    .dataframe tbody tr th:only-of-type {\n",
       "        vertical-align: middle;\n",
       "    }\n",
       "\n",
       "    .dataframe tbody tr th {\n",
       "        vertical-align: top;\n",
       "    }\n",
       "\n",
       "    .dataframe thead th {\n",
       "        text-align: right;\n",
       "    }\n",
       "</style>\n",
       "<table border=\"1\" class=\"dataframe\">\n",
       "  <thead>\n",
       "    <tr style=\"text-align: right;\">\n",
       "      <th></th>\n",
       "      <th>Open</th>\n",
       "      <th>Close</th>\n",
       "    </tr>\n",
       "  </thead>\n",
       "  <tbody>\n",
       "    <tr>\n",
       "      <th>Jan 1</th>\n",
       "      <td>5.0</td>\n",
       "      <td>NaN</td>\n",
       "    </tr>\n",
       "    <tr>\n",
       "      <th>Jan 2</th>\n",
       "      <td>5.6</td>\n",
       "      <td>5.2</td>\n",
       "    </tr>\n",
       "    <tr>\n",
       "      <th>Jan 3</th>\n",
       "      <td>5.2</td>\n",
       "      <td>5.7</td>\n",
       "    </tr>\n",
       "    <tr>\n",
       "      <th>Jan 4</th>\n",
       "      <td>NaN</td>\n",
       "      <td>5.4</td>\n",
       "    </tr>\n",
       "  </tbody>\n",
       "</table>\n",
       "</div>"
      ],
      "text/plain": [
       "       Open  Close\n",
       "Jan 1   5.0    NaN\n",
       "Jan 2   5.6    5.2\n",
       "Jan 3   5.2    5.7\n",
       "Jan 4   NaN    5.4"
      ]
     },
     "execution_count": 43,
     "metadata": {},
     "output_type": "execute_result"
    }
   ],
   "source": [
    "stock_df2 = pd.DataFrame({'Open': open_prices, 'Close': close_prices})\n",
    "stock_df2"
   ]
  },
  {
   "cell_type": "code",
   "execution_count": 44,
   "metadata": {},
   "outputs": [
    {
     "data": {
      "text/html": [
       "<div>\n",
       "<style scoped>\n",
       "    .dataframe tbody tr th:only-of-type {\n",
       "        vertical-align: middle;\n",
       "    }\n",
       "\n",
       "    .dataframe tbody tr th {\n",
       "        vertical-align: top;\n",
       "    }\n",
       "\n",
       "    .dataframe thead th {\n",
       "        text-align: right;\n",
       "    }\n",
       "</style>\n",
       "<table border=\"1\" class=\"dataframe\">\n",
       "  <thead>\n",
       "    <tr style=\"text-align: right;\">\n",
       "      <th></th>\n",
       "      <th>Open</th>\n",
       "      <th>High</th>\n",
       "      <th>Low</th>\n",
       "      <th>Close</th>\n",
       "    </tr>\n",
       "    <tr>\n",
       "      <th>Date</th>\n",
       "      <th></th>\n",
       "      <th></th>\n",
       "      <th></th>\n",
       "      <th></th>\n",
       "    </tr>\n",
       "  </thead>\n",
       "  <tbody>\n",
       "    <tr>\n",
       "      <th>2018-10-01</th>\n",
       "      <td>227.949997</td>\n",
       "      <td>229.419998</td>\n",
       "      <td>226.350006</td>\n",
       "      <td>227.259995</td>\n",
       "    </tr>\n",
       "    <tr>\n",
       "      <th>2018-10-02</th>\n",
       "      <td>227.250000</td>\n",
       "      <td>230.000000</td>\n",
       "      <td>226.630005</td>\n",
       "      <td>229.279999</td>\n",
       "    </tr>\n",
       "    <tr>\n",
       "      <th>2018-10-03</th>\n",
       "      <td>230.050003</td>\n",
       "      <td>233.470001</td>\n",
       "      <td>229.779999</td>\n",
       "      <td>232.070007</td>\n",
       "    </tr>\n",
       "    <tr>\n",
       "      <th>2018-10-04</th>\n",
       "      <td>230.779999</td>\n",
       "      <td>232.350006</td>\n",
       "      <td>226.729996</td>\n",
       "      <td>227.990005</td>\n",
       "    </tr>\n",
       "    <tr>\n",
       "      <th>2018-10-05</th>\n",
       "      <td>227.960007</td>\n",
       "      <td>228.410004</td>\n",
       "      <td>220.580002</td>\n",
       "      <td>224.289993</td>\n",
       "    </tr>\n",
       "    <tr>\n",
       "      <th>2018-10-08</th>\n",
       "      <td>222.210007</td>\n",
       "      <td>224.800003</td>\n",
       "      <td>220.199997</td>\n",
       "      <td>223.770004</td>\n",
       "    </tr>\n",
       "    <tr>\n",
       "      <th>2018-10-09</th>\n",
       "      <td>223.639999</td>\n",
       "      <td>227.270004</td>\n",
       "      <td>222.250000</td>\n",
       "      <td>226.869995</td>\n",
       "    </tr>\n",
       "    <tr>\n",
       "      <th>2018-10-10</th>\n",
       "      <td>225.460007</td>\n",
       "      <td>226.350006</td>\n",
       "      <td>216.050003</td>\n",
       "      <td>216.360001</td>\n",
       "    </tr>\n",
       "    <tr>\n",
       "      <th>2018-10-11</th>\n",
       "      <td>214.520004</td>\n",
       "      <td>219.500000</td>\n",
       "      <td>212.320007</td>\n",
       "      <td>214.449997</td>\n",
       "    </tr>\n",
       "    <tr>\n",
       "      <th>2018-10-12</th>\n",
       "      <td>220.419998</td>\n",
       "      <td>222.880005</td>\n",
       "      <td>216.839996</td>\n",
       "      <td>222.110001</td>\n",
       "    </tr>\n",
       "    <tr>\n",
       "      <th>2018-10-15</th>\n",
       "      <td>221.160004</td>\n",
       "      <td>221.830002</td>\n",
       "      <td>217.270004</td>\n",
       "      <td>217.360001</td>\n",
       "    </tr>\n",
       "    <tr>\n",
       "      <th>2018-10-16</th>\n",
       "      <td>218.929993</td>\n",
       "      <td>222.990005</td>\n",
       "      <td>216.759995</td>\n",
       "      <td>222.149994</td>\n",
       "    </tr>\n",
       "    <tr>\n",
       "      <th>2018-10-17</th>\n",
       "      <td>222.300003</td>\n",
       "      <td>222.639999</td>\n",
       "      <td>219.339996</td>\n",
       "      <td>221.190002</td>\n",
       "    </tr>\n",
       "    <tr>\n",
       "      <th>2018-10-18</th>\n",
       "      <td>217.860001</td>\n",
       "      <td>219.740005</td>\n",
       "      <td>213.000000</td>\n",
       "      <td>216.020004</td>\n",
       "    </tr>\n",
       "    <tr>\n",
       "      <th>2018-10-19</th>\n",
       "      <td>218.059998</td>\n",
       "      <td>221.259995</td>\n",
       "      <td>217.429993</td>\n",
       "      <td>219.309998</td>\n",
       "    </tr>\n",
       "    <tr>\n",
       "      <th>2018-10-22</th>\n",
       "      <td>219.789993</td>\n",
       "      <td>223.360001</td>\n",
       "      <td>218.940002</td>\n",
       "      <td>220.649994</td>\n",
       "    </tr>\n",
       "    <tr>\n",
       "      <th>2018-10-23</th>\n",
       "      <td>215.830002</td>\n",
       "      <td>223.250000</td>\n",
       "      <td>214.699997</td>\n",
       "      <td>222.729996</td>\n",
       "    </tr>\n",
       "    <tr>\n",
       "      <th>2018-10-24</th>\n",
       "      <td>222.600006</td>\n",
       "      <td>224.229996</td>\n",
       "      <td>214.539993</td>\n",
       "      <td>215.089996</td>\n",
       "    </tr>\n",
       "    <tr>\n",
       "      <th>2018-10-25</th>\n",
       "      <td>217.710007</td>\n",
       "      <td>221.380005</td>\n",
       "      <td>216.750000</td>\n",
       "      <td>219.800003</td>\n",
       "    </tr>\n",
       "    <tr>\n",
       "      <th>2018-10-26</th>\n",
       "      <td>215.899994</td>\n",
       "      <td>220.190002</td>\n",
       "      <td>212.669998</td>\n",
       "      <td>216.300003</td>\n",
       "    </tr>\n",
       "    <tr>\n",
       "      <th>2018-10-29</th>\n",
       "      <td>219.190002</td>\n",
       "      <td>219.690002</td>\n",
       "      <td>206.089996</td>\n",
       "      <td>212.240005</td>\n",
       "    </tr>\n",
       "    <tr>\n",
       "      <th>2018-10-30</th>\n",
       "      <td>211.149994</td>\n",
       "      <td>215.179993</td>\n",
       "      <td>209.270004</td>\n",
       "      <td>213.300003</td>\n",
       "    </tr>\n",
       "    <tr>\n",
       "      <th>2018-10-31</th>\n",
       "      <td>216.880005</td>\n",
       "      <td>220.449997</td>\n",
       "      <td>216.619995</td>\n",
       "      <td>218.860001</td>\n",
       "    </tr>\n",
       "    <tr>\n",
       "      <th>2018-11-01</th>\n",
       "      <td>219.050003</td>\n",
       "      <td>222.360001</td>\n",
       "      <td>216.809998</td>\n",
       "      <td>222.220001</td>\n",
       "    </tr>\n",
       "    <tr>\n",
       "      <th>2018-11-02</th>\n",
       "      <td>209.550003</td>\n",
       "      <td>213.649994</td>\n",
       "      <td>205.429993</td>\n",
       "      <td>207.479996</td>\n",
       "    </tr>\n",
       "    <tr>\n",
       "      <th>2018-11-05</th>\n",
       "      <td>204.300003</td>\n",
       "      <td>204.389999</td>\n",
       "      <td>198.169998</td>\n",
       "      <td>201.589996</td>\n",
       "    </tr>\n",
       "    <tr>\n",
       "      <th>2018-11-06</th>\n",
       "      <td>201.919998</td>\n",
       "      <td>204.720001</td>\n",
       "      <td>201.690002</td>\n",
       "      <td>203.770004</td>\n",
       "    </tr>\n",
       "    <tr>\n",
       "      <th>2018-11-07</th>\n",
       "      <td>205.970001</td>\n",
       "      <td>210.059998</td>\n",
       "      <td>204.130005</td>\n",
       "      <td>209.949997</td>\n",
       "    </tr>\n",
       "    <tr>\n",
       "      <th>2018-11-08</th>\n",
       "      <td>209.979996</td>\n",
       "      <td>210.119995</td>\n",
       "      <td>206.750000</td>\n",
       "      <td>208.490005</td>\n",
       "    </tr>\n",
       "    <tr>\n",
       "      <th>2018-11-09</th>\n",
       "      <td>205.550003</td>\n",
       "      <td>206.009995</td>\n",
       "      <td>202.250000</td>\n",
       "      <td>204.470001</td>\n",
       "    </tr>\n",
       "    <tr>\n",
       "      <th>...</th>\n",
       "      <td>...</td>\n",
       "      <td>...</td>\n",
       "      <td>...</td>\n",
       "      <td>...</td>\n",
       "    </tr>\n",
       "    <tr>\n",
       "      <th>2019-08-19</th>\n",
       "      <td>210.619995</td>\n",
       "      <td>212.729996</td>\n",
       "      <td>210.029999</td>\n",
       "      <td>210.350006</td>\n",
       "    </tr>\n",
       "    <tr>\n",
       "      <th>2019-08-20</th>\n",
       "      <td>210.880005</td>\n",
       "      <td>213.350006</td>\n",
       "      <td>210.320007</td>\n",
       "      <td>210.360001</td>\n",
       "    </tr>\n",
       "    <tr>\n",
       "      <th>2019-08-21</th>\n",
       "      <td>212.990005</td>\n",
       "      <td>213.649994</td>\n",
       "      <td>211.600006</td>\n",
       "      <td>212.639999</td>\n",
       "    </tr>\n",
       "    <tr>\n",
       "      <th>2019-08-22</th>\n",
       "      <td>213.190002</td>\n",
       "      <td>214.440002</td>\n",
       "      <td>210.750000</td>\n",
       "      <td>212.460007</td>\n",
       "    </tr>\n",
       "    <tr>\n",
       "      <th>2019-08-23</th>\n",
       "      <td>209.429993</td>\n",
       "      <td>212.050003</td>\n",
       "      <td>201.000000</td>\n",
       "      <td>202.639999</td>\n",
       "    </tr>\n",
       "    <tr>\n",
       "      <th>2019-08-26</th>\n",
       "      <td>205.860001</td>\n",
       "      <td>207.190002</td>\n",
       "      <td>205.059998</td>\n",
       "      <td>206.490005</td>\n",
       "    </tr>\n",
       "    <tr>\n",
       "      <th>2019-08-27</th>\n",
       "      <td>207.860001</td>\n",
       "      <td>208.550003</td>\n",
       "      <td>203.529999</td>\n",
       "      <td>204.160004</td>\n",
       "    </tr>\n",
       "    <tr>\n",
       "      <th>2019-08-28</th>\n",
       "      <td>204.100006</td>\n",
       "      <td>205.720001</td>\n",
       "      <td>203.320007</td>\n",
       "      <td>205.529999</td>\n",
       "    </tr>\n",
       "    <tr>\n",
       "      <th>2019-08-29</th>\n",
       "      <td>208.500000</td>\n",
       "      <td>209.320007</td>\n",
       "      <td>206.660004</td>\n",
       "      <td>209.009995</td>\n",
       "    </tr>\n",
       "    <tr>\n",
       "      <th>2019-08-30</th>\n",
       "      <td>210.160004</td>\n",
       "      <td>210.449997</td>\n",
       "      <td>207.199997</td>\n",
       "      <td>208.740005</td>\n",
       "    </tr>\n",
       "    <tr>\n",
       "      <th>2019-09-03</th>\n",
       "      <td>206.429993</td>\n",
       "      <td>206.979996</td>\n",
       "      <td>204.220001</td>\n",
       "      <td>205.699997</td>\n",
       "    </tr>\n",
       "    <tr>\n",
       "      <th>2019-09-04</th>\n",
       "      <td>208.389999</td>\n",
       "      <td>209.479996</td>\n",
       "      <td>207.320007</td>\n",
       "      <td>209.190002</td>\n",
       "    </tr>\n",
       "    <tr>\n",
       "      <th>2019-09-05</th>\n",
       "      <td>212.000000</td>\n",
       "      <td>213.970001</td>\n",
       "      <td>211.509995</td>\n",
       "      <td>213.279999</td>\n",
       "    </tr>\n",
       "    <tr>\n",
       "      <th>2019-09-06</th>\n",
       "      <td>214.050003</td>\n",
       "      <td>214.419998</td>\n",
       "      <td>212.509995</td>\n",
       "      <td>213.259995</td>\n",
       "    </tr>\n",
       "    <tr>\n",
       "      <th>2019-09-09</th>\n",
       "      <td>214.839996</td>\n",
       "      <td>216.440002</td>\n",
       "      <td>211.070007</td>\n",
       "      <td>214.169998</td>\n",
       "    </tr>\n",
       "    <tr>\n",
       "      <th>2019-09-10</th>\n",
       "      <td>213.860001</td>\n",
       "      <td>216.779999</td>\n",
       "      <td>211.710007</td>\n",
       "      <td>216.699997</td>\n",
       "    </tr>\n",
       "    <tr>\n",
       "      <th>2019-09-11</th>\n",
       "      <td>218.070007</td>\n",
       "      <td>223.710007</td>\n",
       "      <td>217.729996</td>\n",
       "      <td>223.589996</td>\n",
       "    </tr>\n",
       "    <tr>\n",
       "      <th>2019-09-12</th>\n",
       "      <td>224.800003</td>\n",
       "      <td>226.419998</td>\n",
       "      <td>222.860001</td>\n",
       "      <td>223.089996</td>\n",
       "    </tr>\n",
       "    <tr>\n",
       "      <th>2019-09-13</th>\n",
       "      <td>220.000000</td>\n",
       "      <td>220.789993</td>\n",
       "      <td>217.020004</td>\n",
       "      <td>218.750000</td>\n",
       "    </tr>\n",
       "    <tr>\n",
       "      <th>2019-09-16</th>\n",
       "      <td>217.729996</td>\n",
       "      <td>220.130005</td>\n",
       "      <td>217.559998</td>\n",
       "      <td>219.899994</td>\n",
       "    </tr>\n",
       "    <tr>\n",
       "      <th>2019-09-17</th>\n",
       "      <td>219.960007</td>\n",
       "      <td>220.820007</td>\n",
       "      <td>219.119995</td>\n",
       "      <td>220.699997</td>\n",
       "    </tr>\n",
       "    <tr>\n",
       "      <th>2019-09-18</th>\n",
       "      <td>221.059998</td>\n",
       "      <td>222.850006</td>\n",
       "      <td>219.440002</td>\n",
       "      <td>222.770004</td>\n",
       "    </tr>\n",
       "    <tr>\n",
       "      <th>2019-09-19</th>\n",
       "      <td>222.009995</td>\n",
       "      <td>223.759995</td>\n",
       "      <td>220.369995</td>\n",
       "      <td>220.960007</td>\n",
       "    </tr>\n",
       "    <tr>\n",
       "      <th>2019-09-20</th>\n",
       "      <td>221.380005</td>\n",
       "      <td>222.559998</td>\n",
       "      <td>217.470001</td>\n",
       "      <td>217.729996</td>\n",
       "    </tr>\n",
       "    <tr>\n",
       "      <th>2019-09-23</th>\n",
       "      <td>218.949997</td>\n",
       "      <td>219.839996</td>\n",
       "      <td>217.649994</td>\n",
       "      <td>218.720001</td>\n",
       "    </tr>\n",
       "    <tr>\n",
       "      <th>2019-09-24</th>\n",
       "      <td>221.029999</td>\n",
       "      <td>222.490005</td>\n",
       "      <td>217.190002</td>\n",
       "      <td>217.679993</td>\n",
       "    </tr>\n",
       "    <tr>\n",
       "      <th>2019-09-25</th>\n",
       "      <td>218.550003</td>\n",
       "      <td>221.500000</td>\n",
       "      <td>217.139999</td>\n",
       "      <td>221.029999</td>\n",
       "    </tr>\n",
       "    <tr>\n",
       "      <th>2019-09-26</th>\n",
       "      <td>220.000000</td>\n",
       "      <td>220.940002</td>\n",
       "      <td>218.830002</td>\n",
       "      <td>219.889999</td>\n",
       "    </tr>\n",
       "    <tr>\n",
       "      <th>2019-09-27</th>\n",
       "      <td>220.539993</td>\n",
       "      <td>220.960007</td>\n",
       "      <td>217.279999</td>\n",
       "      <td>218.820007</td>\n",
       "    </tr>\n",
       "    <tr>\n",
       "      <th>2019-09-30</th>\n",
       "      <td>220.899994</td>\n",
       "      <td>223.419998</td>\n",
       "      <td>220.789993</td>\n",
       "      <td>223.339996</td>\n",
       "    </tr>\n",
       "  </tbody>\n",
       "</table>\n",
       "<p>251 rows × 4 columns</p>\n",
       "</div>"
      ],
      "text/plain": [
       "                  Open        High         Low       Close\n",
       "Date                                                      \n",
       "2018-10-01  227.949997  229.419998  226.350006  227.259995\n",
       "2018-10-02  227.250000  230.000000  226.630005  229.279999\n",
       "2018-10-03  230.050003  233.470001  229.779999  232.070007\n",
       "2018-10-04  230.779999  232.350006  226.729996  227.990005\n",
       "2018-10-05  227.960007  228.410004  220.580002  224.289993\n",
       "2018-10-08  222.210007  224.800003  220.199997  223.770004\n",
       "2018-10-09  223.639999  227.270004  222.250000  226.869995\n",
       "2018-10-10  225.460007  226.350006  216.050003  216.360001\n",
       "2018-10-11  214.520004  219.500000  212.320007  214.449997\n",
       "2018-10-12  220.419998  222.880005  216.839996  222.110001\n",
       "2018-10-15  221.160004  221.830002  217.270004  217.360001\n",
       "2018-10-16  218.929993  222.990005  216.759995  222.149994\n",
       "2018-10-17  222.300003  222.639999  219.339996  221.190002\n",
       "2018-10-18  217.860001  219.740005  213.000000  216.020004\n",
       "2018-10-19  218.059998  221.259995  217.429993  219.309998\n",
       "2018-10-22  219.789993  223.360001  218.940002  220.649994\n",
       "2018-10-23  215.830002  223.250000  214.699997  222.729996\n",
       "2018-10-24  222.600006  224.229996  214.539993  215.089996\n",
       "2018-10-25  217.710007  221.380005  216.750000  219.800003\n",
       "2018-10-26  215.899994  220.190002  212.669998  216.300003\n",
       "2018-10-29  219.190002  219.690002  206.089996  212.240005\n",
       "2018-10-30  211.149994  215.179993  209.270004  213.300003\n",
       "2018-10-31  216.880005  220.449997  216.619995  218.860001\n",
       "2018-11-01  219.050003  222.360001  216.809998  222.220001\n",
       "2018-11-02  209.550003  213.649994  205.429993  207.479996\n",
       "2018-11-05  204.300003  204.389999  198.169998  201.589996\n",
       "2018-11-06  201.919998  204.720001  201.690002  203.770004\n",
       "2018-11-07  205.970001  210.059998  204.130005  209.949997\n",
       "2018-11-08  209.979996  210.119995  206.750000  208.490005\n",
       "2018-11-09  205.550003  206.009995  202.250000  204.470001\n",
       "...                ...         ...         ...         ...\n",
       "2019-08-19  210.619995  212.729996  210.029999  210.350006\n",
       "2019-08-20  210.880005  213.350006  210.320007  210.360001\n",
       "2019-08-21  212.990005  213.649994  211.600006  212.639999\n",
       "2019-08-22  213.190002  214.440002  210.750000  212.460007\n",
       "2019-08-23  209.429993  212.050003  201.000000  202.639999\n",
       "2019-08-26  205.860001  207.190002  205.059998  206.490005\n",
       "2019-08-27  207.860001  208.550003  203.529999  204.160004\n",
       "2019-08-28  204.100006  205.720001  203.320007  205.529999\n",
       "2019-08-29  208.500000  209.320007  206.660004  209.009995\n",
       "2019-08-30  210.160004  210.449997  207.199997  208.740005\n",
       "2019-09-03  206.429993  206.979996  204.220001  205.699997\n",
       "2019-09-04  208.389999  209.479996  207.320007  209.190002\n",
       "2019-09-05  212.000000  213.970001  211.509995  213.279999\n",
       "2019-09-06  214.050003  214.419998  212.509995  213.259995\n",
       "2019-09-09  214.839996  216.440002  211.070007  214.169998\n",
       "2019-09-10  213.860001  216.779999  211.710007  216.699997\n",
       "2019-09-11  218.070007  223.710007  217.729996  223.589996\n",
       "2019-09-12  224.800003  226.419998  222.860001  223.089996\n",
       "2019-09-13  220.000000  220.789993  217.020004  218.750000\n",
       "2019-09-16  217.729996  220.130005  217.559998  219.899994\n",
       "2019-09-17  219.960007  220.820007  219.119995  220.699997\n",
       "2019-09-18  221.059998  222.850006  219.440002  222.770004\n",
       "2019-09-19  222.009995  223.759995  220.369995  220.960007\n",
       "2019-09-20  221.380005  222.559998  217.470001  217.729996\n",
       "2019-09-23  218.949997  219.839996  217.649994  218.720001\n",
       "2019-09-24  221.029999  222.490005  217.190002  217.679993\n",
       "2019-09-25  218.550003  221.500000  217.139999  221.029999\n",
       "2019-09-26  220.000000  220.940002  218.830002  219.889999\n",
       "2019-09-27  220.539993  220.960007  217.279999  218.820007\n",
       "2019-09-30  220.899994  223.419998  220.789993  223.339996\n",
       "\n",
       "[251 rows x 4 columns]"
      ]
     },
     "execution_count": 44,
     "metadata": {},
     "output_type": "execute_result"
    }
   ],
   "source": [
    "apple_stock_data = pd.read_csv('AAPL.csv', \n",
    "                               usecols=['Date', 'Open', 'High', 'Low', 'Close'],\n",
    "                               parse_dates=True, \n",
    "                               index_col='Date')\n",
    "apple_stock_data"
   ]
  },
  {
   "cell_type": "code",
   "execution_count": 45,
   "metadata": {},
   "outputs": [
    {
     "data": {
      "text/plain": [
       "Date\n",
       "2018-10-01    227.259995\n",
       "2018-10-02    229.279999\n",
       "2018-10-03    232.070007\n",
       "2018-10-04    227.990005\n",
       "2018-10-05    224.289993\n",
       "2018-10-08    223.770004\n",
       "2018-10-09    226.869995\n",
       "2018-10-10    216.360001\n",
       "2018-10-11    214.449997\n",
       "2018-10-12    222.110001\n",
       "2018-10-15    217.360001\n",
       "2018-10-16    222.149994\n",
       "2018-10-17    221.190002\n",
       "2018-10-18    216.020004\n",
       "2018-10-19    219.309998\n",
       "2018-10-22    220.649994\n",
       "2018-10-23    222.729996\n",
       "2018-10-24    215.089996\n",
       "2018-10-25    219.800003\n",
       "2018-10-26    216.300003\n",
       "2018-10-29    212.240005\n",
       "2018-10-30    213.300003\n",
       "2018-10-31    218.860001\n",
       "2018-11-01    222.220001\n",
       "2018-11-02    207.479996\n",
       "2018-11-05    201.589996\n",
       "2018-11-06    203.770004\n",
       "2018-11-07    209.949997\n",
       "2018-11-08    208.490005\n",
       "2018-11-09    204.470001\n",
       "                 ...    \n",
       "2019-08-19    210.350006\n",
       "2019-08-20    210.360001\n",
       "2019-08-21    212.639999\n",
       "2019-08-22    212.460007\n",
       "2019-08-23    202.639999\n",
       "2019-08-26    206.490005\n",
       "2019-08-27    204.160004\n",
       "2019-08-28    205.529999\n",
       "2019-08-29    209.009995\n",
       "2019-08-30    208.740005\n",
       "2019-09-03    205.699997\n",
       "2019-09-04    209.190002\n",
       "2019-09-05    213.279999\n",
       "2019-09-06    213.259995\n",
       "2019-09-09    214.169998\n",
       "2019-09-10    216.699997\n",
       "2019-09-11    223.589996\n",
       "2019-09-12    223.089996\n",
       "2019-09-13    218.750000\n",
       "2019-09-16    219.899994\n",
       "2019-09-17    220.699997\n",
       "2019-09-18    222.770004\n",
       "2019-09-19    220.960007\n",
       "2019-09-20    217.729996\n",
       "2019-09-23    218.720001\n",
       "2019-09-24    217.679993\n",
       "2019-09-25    221.029999\n",
       "2019-09-26    219.889999\n",
       "2019-09-27    218.820007\n",
       "2019-09-30    223.339996\n",
       "Name: Close, Length: 251, dtype: float64"
      ]
     },
     "execution_count": 45,
     "metadata": {},
     "output_type": "execute_result"
    }
   ],
   "source": [
    "# Dataframe functions\n",
    "\n",
    "apple_stock_data['Close']"
   ]
  },
  {
   "cell_type": "code",
   "execution_count": 46,
   "metadata": {},
   "outputs": [
    {
     "data": {
      "text/plain": [
       "Open     221.029999\n",
       "High     222.490005\n",
       "Low      217.190002\n",
       "Close    217.679993\n",
       "Name: 2019-09-24 00:00:00, dtype: float64"
      ]
     },
     "execution_count": 46,
     "metadata": {},
     "output_type": "execute_result"
    }
   ],
   "source": [
    "apple_stock_data.loc['2019-09-24']"
   ]
  },
  {
   "cell_type": "code",
   "execution_count": 47,
   "metadata": {},
   "outputs": [
    {
     "data": {
      "text/plain": [
       "Open     227.949997\n",
       "High     229.419998\n",
       "Low      226.350006\n",
       "Close    227.259995\n",
       "Name: 2018-10-01 00:00:00, dtype: float64"
      ]
     },
     "execution_count": 47,
     "metadata": {},
     "output_type": "execute_result"
    }
   ],
   "source": [
    "apple_stock_data.iloc[0]"
   ]
  },
  {
   "cell_type": "code",
   "execution_count": 48,
   "metadata": {},
   "outputs": [
    {
     "data": {
      "text/html": [
       "<div>\n",
       "<style scoped>\n",
       "    .dataframe tbody tr th:only-of-type {\n",
       "        vertical-align: middle;\n",
       "    }\n",
       "\n",
       "    .dataframe tbody tr th {\n",
       "        vertical-align: top;\n",
       "    }\n",
       "\n",
       "    .dataframe thead th {\n",
       "        text-align: right;\n",
       "    }\n",
       "</style>\n",
       "<table border=\"1\" class=\"dataframe\">\n",
       "  <thead>\n",
       "    <tr style=\"text-align: right;\">\n",
       "      <th></th>\n",
       "      <th>Open</th>\n",
       "      <th>High</th>\n",
       "      <th>Low</th>\n",
       "      <th>Close</th>\n",
       "    </tr>\n",
       "    <tr>\n",
       "      <th>Date</th>\n",
       "      <th></th>\n",
       "      <th></th>\n",
       "      <th></th>\n",
       "      <th></th>\n",
       "    </tr>\n",
       "  </thead>\n",
       "  <tbody>\n",
       "    <tr>\n",
       "      <th>2018-10-01</th>\n",
       "      <td>227.949997</td>\n",
       "      <td>229.419998</td>\n",
       "      <td>226.350006</td>\n",
       "      <td>227.259995</td>\n",
       "    </tr>\n",
       "    <tr>\n",
       "      <th>2018-10-02</th>\n",
       "      <td>227.250000</td>\n",
       "      <td>230.000000</td>\n",
       "      <td>226.630005</td>\n",
       "      <td>229.279999</td>\n",
       "    </tr>\n",
       "    <tr>\n",
       "      <th>2018-10-03</th>\n",
       "      <td>230.050003</td>\n",
       "      <td>233.470001</td>\n",
       "      <td>229.779999</td>\n",
       "      <td>232.070007</td>\n",
       "    </tr>\n",
       "    <tr>\n",
       "      <th>2018-10-04</th>\n",
       "      <td>230.779999</td>\n",
       "      <td>232.350006</td>\n",
       "      <td>226.729996</td>\n",
       "      <td>227.990005</td>\n",
       "    </tr>\n",
       "    <tr>\n",
       "      <th>2018-10-05</th>\n",
       "      <td>227.960007</td>\n",
       "      <td>228.410004</td>\n",
       "      <td>220.580002</td>\n",
       "      <td>224.289993</td>\n",
       "    </tr>\n",
       "  </tbody>\n",
       "</table>\n",
       "</div>"
      ],
      "text/plain": [
       "                  Open        High         Low       Close\n",
       "Date                                                      \n",
       "2018-10-01  227.949997  229.419998  226.350006  227.259995\n",
       "2018-10-02  227.250000  230.000000  226.630005  229.279999\n",
       "2018-10-03  230.050003  233.470001  229.779999  232.070007\n",
       "2018-10-04  230.779999  232.350006  226.729996  227.990005\n",
       "2018-10-05  227.960007  228.410004  220.580002  224.289993"
      ]
     },
     "execution_count": 48,
     "metadata": {},
     "output_type": "execute_result"
    }
   ],
   "source": [
    "apple_stock_data.iloc[0:5]"
   ]
  },
  {
   "cell_type": "code",
   "execution_count": 49,
   "metadata": {},
   "outputs": [
    {
     "data": {
      "text/plain": [
       "227.94999700000002"
      ]
     },
     "execution_count": 49,
     "metadata": {},
     "output_type": "execute_result"
    }
   ],
   "source": [
    "apple_stock_data['Open']['2018-10-01'] # retrieving using column 1st then row"
   ]
  },
  {
   "cell_type": "code",
   "execution_count": 50,
   "metadata": {},
   "outputs": [
    {
     "data": {
      "text/plain": [
       "232.350006"
      ]
     },
     "execution_count": 50,
     "metadata": {},
     "output_type": "execute_result"
    }
   ],
   "source": [
    "apple_stock_data.loc['2018-10-04']['High'] # retrieving using row 1st then column (note: use loc/iloc)"
   ]
  },
  {
   "cell_type": "code",
   "execution_count": 51,
   "metadata": {},
   "outputs": [],
   "source": [
    "first_five = apple_stock_data.iloc[0:5]"
   ]
  },
  {
   "cell_type": "code",
   "execution_count": 52,
   "metadata": {},
   "outputs": [
    {
     "data": {
      "text/html": [
       "<div>\n",
       "<style scoped>\n",
       "    .dataframe tbody tr th:only-of-type {\n",
       "        vertical-align: middle;\n",
       "    }\n",
       "\n",
       "    .dataframe tbody tr th {\n",
       "        vertical-align: top;\n",
       "    }\n",
       "\n",
       "    .dataframe thead th {\n",
       "        text-align: right;\n",
       "    }\n",
       "</style>\n",
       "<table border=\"1\" class=\"dataframe\">\n",
       "  <thead>\n",
       "    <tr style=\"text-align: right;\">\n",
       "      <th></th>\n",
       "      <th>Open</th>\n",
       "      <th>High</th>\n",
       "      <th>Low</th>\n",
       "      <th>Close</th>\n",
       "    </tr>\n",
       "  </thead>\n",
       "  <tbody>\n",
       "    <tr>\n",
       "      <th>count</th>\n",
       "      <td>5.000000</td>\n",
       "      <td>5.000000</td>\n",
       "      <td>5.000000</td>\n",
       "      <td>5.000000</td>\n",
       "    </tr>\n",
       "    <tr>\n",
       "      <th>mean</th>\n",
       "      <td>228.798001</td>\n",
       "      <td>230.730002</td>\n",
       "      <td>226.014002</td>\n",
       "      <td>228.178000</td>\n",
       "    </tr>\n",
       "    <tr>\n",
       "      <th>std</th>\n",
       "      <td>1.525899</td>\n",
       "      <td>2.107333</td>\n",
       "      <td>3.343505</td>\n",
       "      <td>2.844152</td>\n",
       "    </tr>\n",
       "    <tr>\n",
       "      <th>min</th>\n",
       "      <td>227.250000</td>\n",
       "      <td>228.410004</td>\n",
       "      <td>220.580002</td>\n",
       "      <td>224.289993</td>\n",
       "    </tr>\n",
       "    <tr>\n",
       "      <th>25%</th>\n",
       "      <td>227.949997</td>\n",
       "      <td>229.419998</td>\n",
       "      <td>226.350006</td>\n",
       "      <td>227.259995</td>\n",
       "    </tr>\n",
       "    <tr>\n",
       "      <th>50%</th>\n",
       "      <td>227.960007</td>\n",
       "      <td>230.000000</td>\n",
       "      <td>226.630005</td>\n",
       "      <td>227.990005</td>\n",
       "    </tr>\n",
       "    <tr>\n",
       "      <th>75%</th>\n",
       "      <td>230.050003</td>\n",
       "      <td>232.350006</td>\n",
       "      <td>226.729996</td>\n",
       "      <td>229.279999</td>\n",
       "    </tr>\n",
       "    <tr>\n",
       "      <th>max</th>\n",
       "      <td>230.779999</td>\n",
       "      <td>233.470001</td>\n",
       "      <td>229.779999</td>\n",
       "      <td>232.070007</td>\n",
       "    </tr>\n",
       "  </tbody>\n",
       "</table>\n",
       "</div>"
      ],
      "text/plain": [
       "             Open        High         Low       Close\n",
       "count    5.000000    5.000000    5.000000    5.000000\n",
       "mean   228.798001  230.730002  226.014002  228.178000\n",
       "std      1.525899    2.107333    3.343505    2.844152\n",
       "min    227.250000  228.410004  220.580002  224.289993\n",
       "25%    227.949997  229.419998  226.350006  227.259995\n",
       "50%    227.960007  230.000000  226.630005  227.990005\n",
       "75%    230.050003  232.350006  226.729996  229.279999\n",
       "max    230.779999  233.470001  229.779999  232.070007"
      ]
     },
     "execution_count": 52,
     "metadata": {},
     "output_type": "execute_result"
    }
   ],
   "source": [
    "first_five.describe()"
   ]
  },
  {
   "cell_type": "code",
   "execution_count": 53,
   "metadata": {},
   "outputs": [
    {
     "data": {
      "text/plain": [
       "Open     230.779999\n",
       "High     233.470001\n",
       "Low      229.779999\n",
       "Close    232.070007\n",
       "dtype: float64"
      ]
     },
     "execution_count": 53,
     "metadata": {},
     "output_type": "execute_result"
    }
   ],
   "source": [
    "first_five.max()"
   ]
  },
  {
   "cell_type": "code",
   "execution_count": 54,
   "metadata": {},
   "outputs": [
    {
     "data": {
      "text/plain": [
       "Open     230.779999\n",
       "High     233.470001\n",
       "Low      229.779999\n",
       "Close    232.070007\n",
       "dtype: float64"
      ]
     },
     "execution_count": 54,
     "metadata": {},
     "output_type": "execute_result"
    }
   ],
   "source": [
    "first_five.max(axis=0)"
   ]
  },
  {
   "cell_type": "code",
   "execution_count": 55,
   "metadata": {},
   "outputs": [
    {
     "data": {
      "text/plain": [
       "Date\n",
       "2018-10-01    229.419998\n",
       "2018-10-02    230.000000\n",
       "2018-10-03    233.470001\n",
       "2018-10-04    232.350006\n",
       "2018-10-05    228.410004\n",
       "dtype: float64"
      ]
     },
     "execution_count": 55,
     "metadata": {},
     "output_type": "execute_result"
    }
   ],
   "source": [
    "first_five.max(axis=1)"
   ]
  },
  {
   "cell_type": "code",
   "execution_count": 56,
   "metadata": {},
   "outputs": [
    {
     "data": {
      "text/plain": [
       "Open    2018-10-04\n",
       "High    2018-10-03\n",
       "Low     2018-10-03\n",
       "Close   2018-10-03\n",
       "dtype: datetime64[ns]"
      ]
     },
     "execution_count": 56,
     "metadata": {},
     "output_type": "execute_result"
    }
   ],
   "source": [
    "first_five.idxmax(axis=0)"
   ]
  },
  {
   "cell_type": "code",
   "execution_count": 57,
   "metadata": {},
   "outputs": [
    {
     "data": {
      "text/plain": [
       "Date\n",
       "2018-10-01    High\n",
       "2018-10-02    High\n",
       "2018-10-03    High\n",
       "2018-10-04    High\n",
       "2018-10-05    High\n",
       "dtype: object"
      ]
     },
     "execution_count": 57,
     "metadata": {},
     "output_type": "execute_result"
    }
   ],
   "source": [
    "first_five.idxmax(axis=1)"
   ]
  },
  {
   "cell_type": "code",
   "execution_count": null,
   "metadata": {},
   "outputs": [],
   "source": []
  }
 ],
 "metadata": {
  "kernelspec": {
   "display_name": "Python 3",
   "language": "python",
   "name": "python3"
  },
  "language_info": {
   "codemirror_mode": {
    "name": "ipython",
    "version": 3
   },
   "file_extension": ".py",
   "mimetype": "text/x-python",
   "name": "python",
   "nbconvert_exporter": "python",
   "pygments_lexer": "ipython3",
   "version": "3.7.2"
  }
 },
 "nbformat": 4,
 "nbformat_minor": 2
}
