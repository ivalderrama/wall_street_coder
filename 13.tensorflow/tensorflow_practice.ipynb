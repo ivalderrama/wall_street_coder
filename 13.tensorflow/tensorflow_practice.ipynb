{
 "cells": [
  {
   "cell_type": "code",
   "execution_count": 1,
   "metadata": {},
   "outputs": [],
   "source": [
    "import tensorflow as tf"
   ]
  },
  {
   "cell_type": "code",
   "execution_count": 2,
   "metadata": {},
   "outputs": [
    {
     "name": "stdout",
     "output_type": "stream",
     "text": [
      "Tensor(\"const_1:0\", shape=(1,), dtype=float32)\n"
     ]
    }
   ],
   "source": [
    "const_1 = tf.constant(value=[5.0], \n",
    "                      dtype=tf.float32, \n",
    "                      shape=(1,), \n",
    "                      name='const_1', \n",
    "                      verify_shape=True)\n",
    "\n",
    "print(const_1)"
   ]
  },
  {
   "cell_type": "code",
   "execution_count": 3,
   "metadata": {},
   "outputs": [
    {
     "name": "stdout",
     "output_type": "stream",
     "text": [
      "<tf.Variable 'var_1:0' shape=(1,) dtype=float32_ref>\n"
     ]
    }
   ],
   "source": [
    "var_1 = tf.Variable(initial_value=[1.0],\n",
    "                    trainable=True,\n",
    "                    collections=None,\n",
    "                    validate_shape=True,\n",
    "                    caching_device=None,\n",
    "                    name='var_1',\n",
    "                    variable_def=None,\n",
    "                    dtype=tf.float32,\n",
    "                    expected_shape=(1,),\n",
    "                    import_scope=None)\n",
    "\n",
    "print(var_1)"
   ]
  },
  {
   "cell_type": "code",
   "execution_count": 4,
   "metadata": {},
   "outputs": [
    {
     "name": "stdout",
     "output_type": "stream",
     "text": [
      "Tensor(\"placeholder_1:0\", shape=(1,), dtype=float32)\n"
     ]
    }
   ],
   "source": [
    "placeholder_1 = tf.placeholder(dtype=tf.float32,\n",
    "                               shape=(1,),\n",
    "                               name='placeholder_1')\n",
    "\n",
    "print(placeholder_1)"
   ]
  },
  {
   "cell_type": "code",
   "execution_count": null,
   "metadata": {},
   "outputs": [],
   "source": []
  }
 ],
 "metadata": {
  "kernelspec": {
   "display_name": "Python 3",
   "language": "python",
   "name": "python3"
  },
  "language_info": {
   "codemirror_mode": {
    "name": "ipython",
    "version": 3
   },
   "file_extension": ".py",
   "mimetype": "text/x-python",
   "name": "python",
   "nbconvert_exporter": "python",
   "pygments_lexer": "ipython3",
   "version": "3.7.3"
  }
 },
 "nbformat": 4,
 "nbformat_minor": 2
}
